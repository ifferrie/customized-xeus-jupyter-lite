{
 "cells": [
  {
   "cell_type": "markdown",
   "id": "4e1b2bf2",
   "metadata": {},
   "source": [
    "# 🚀 Welcome to JupyterLite Showcase\n",
    "\n",
    "This notebook will guide you step by step into the **world of Python in the browser**.  \n",
    "No installation, no setup — everything runs here ✨. Use the ▶️ to execute the code.\n",
    "\n",
    "## Important: Choosing the Right Kernel\n",
    "This notebook uses different kernels to run code directly in your browser.\n",
    "A kernel is the “engine” that executes your code. Each language has its own kernel.\n",
    "\n",
    "The kernels loaded into this JupyterLite includes Python (Pyodide), JavaScript, Cpp, P5, and R.\n",
    "\n",
    "To run this notebook correctly, please use the Python (Pyodide) kernel.\n",
    "\n",
    "How to check:\n",
    "\n",
    "1. On the top right corner if your this JupypterLie notebook, you should see Python (Pyodide) kernel selected.  \n",
    "2. If you do not see Python (Pyodide), click the label and a pop-up window with dropdown will appear.\n",
    "3. Select the correct kernel."
   ]
  },
  {
   "cell_type": "markdown",
   "id": "a9f1180e",
   "metadata": {},
   "source": [
    "# 1. Python as a Calculator  \n",
    "\n",
    "Python can do simple math, just like your calculator.\n",
    "Try entering your own formula to see the result."
   ]
  },
  {
   "cell_type": "code",
   "execution_count": null,
   "id": "99823ebb",
   "metadata": {},
   "outputs": [],
   "source": [
    "2 + 3 * 5"
   ]
  },
  {
   "cell_type": "markdown",
   "id": "28e6e035",
   "metadata": {},
   "source": [
    "# 2. Working with Data  \n",
    "\n",
    "Let's create a small dataset of ice-cream, their rating, and popularity.\n",
    "\n",
    "A **library** in coding is just like that LEGO kit. It’s a bunch of code that someone else already wrote to help you do something faster—like reading data, making charts, or doing math. Pandas is a library that helps us work with **tables of data**, kind of like a spreadsheet. \n",
    "\n",
    "To use **Pandas**, a powerful data analysis library, enter this line of code in to the first line below:"
   ]
  },
  {
   "cell_type": "code",
   "execution_count": null,
   "id": "f3e6e64b",
   "metadata": {},
   "outputs": [],
   "source": [
    "import pandas as pd"
   ]
  },
  {
   "cell_type": "code",
   "execution_count": null,
   "id": "dfe4bbc8",
   "metadata": {},
   "outputs": [],
   "source": [
    "data = {\n",
    "    \"icecream_flavor\": [\"Strawberry\", \"Vanilla\", \"Chocolate\", \"Mint\"],\n",
    "    \"taste_scores\": [85, 92, 78, 88],\n",
    "    \"popularity\": [10, 15, 7, 12]\n",
    "}\n",
    "\n",
    "df = pd.DataFrame(data)\n",
    "df"
   ]
  },
  {
   "cell_type": "markdown",
   "id": "e64ab8a7",
   "metadata": {},
   "source": [
    "# 3. Visualizing Data  \n",
    "\n",
    "Now let’s create a **scatter plot** to see how taste scores relate to popularity. \n",
    "\n",
    "We'll use a few other libraries:\n",
    " \n",
    "**micropip** helps you download and install new tools right inside your notebook. You just tell it what you want, and it goes and gets it for you!\n",
    " \n",
    "**Seaborn**, which makes charts beautiful with just one line of code.\n",
    " \n",
    "**matplotlib.pyplot** is a drawing library that helps you make pictures from data: bar charts, line graphs, pie chartsof code."
   ]
  },
  {
   "cell_type": "code",
   "execution_count": null,
   "id": "e3d401dd",
   "metadata": {},
   "outputs": [],
   "source": [
    "import micropip\n",
    "await micropip.install(\"seaborn\")\n",
    "\n",
    "import seaborn as sns\n",
    "import matplotlib.pyplot as plt\n",
    "\n",
    "sns.scatterplot(x=\"taste_scores\", y=\"popularity\", data=df, hue=\"icecream_flavor\", s=100)\n",
    "plt.title(\"Taste Score vs. Popularity\")\n",
    "plt.show()"
   ]
  },
  {
   "cell_type": "markdown",
   "id": "3013995f",
   "metadata": {},
   "source": [
    "# 4. Something Fun 🎉 \n",
    "\n",
    "Let’s visualize with a different set of data using emojis! Because Python isn’t just for numbers. 😉\n",
    "\n",
    "You can see here that since the libraries have already been loaded in previous steps, you do not need to load them again."
   ]
  },
  {
   "cell_type": "code",
   "execution_count": null,
   "id": "859ae1df",
   "metadata": {},
   "outputs": [],
   "source": [
    "emoji_data = {\n",
    "    \"😀\": 10,\n",
    "    \"😎\": 15,\n",
    "    \"❤️\": 7,\n",
    "    \"😭\": 12\n",
    "}\n",
    "\n",
    "# Define colors for each bar\n",
    "colors = [\"#FF9999\", \"#99CCFF\", \"#FFCC99\", \"#99FF99\"]\n",
    "\n",
    "sns.barplot(\n",
    "    x=list(emoji_data.keys()), \n",
    "    y=list(emoji_data.values()),\n",
    "    hue=list(emoji_data.keys()), \n",
    "    palette=colors,\n",
    "    legend=False\n",
    ")\n",
    "\n",
    "plt.title(\"Favorite Emojis in Class\")\n",
    "plt.show()"
   ]
  }
 ],
 "metadata": {
  "language_info": {
   "name": "python"
  }
 },
 "nbformat": 4,
 "nbformat_minor": 5
}
