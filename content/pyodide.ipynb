{
 "cells": [
  {
   "cell_type": "markdown",
   "id": "4e1b2bf2",
   "metadata": {},
   "source": [
    "# 🚀 Welcome to JupyterLite Showcase\n",
    "\n",
    "This notebook will guide you step by step into the **world of Python in the browser**.  \n",
    "No installation, no setup — everything runs here ✨. "
   ]
  },
  {
   "cell_type": "markdown",
   "id": "a9f1180e",
   "metadata": {},
   "source": [
    "# 1. Python as a Calculator  \n",
    "\n",
    "Python can do simple math, just like your calculator."
   ]
  },
  {
   "cell_type": "code",
   "execution_count": null,
   "id": "99823ebb",
   "metadata": {},
   "outputs": [],
   "source": [
    "2 + 3 * 5"
   ]
  },
  {
   "cell_type": "markdown",
   "id": "28e6e035",
   "metadata": {},
   "source": [
    "# 2. Working with Data  \n",
    "\n",
    "Let's create a small dataset of students, their scores, and study hours.  \n",
    "We'll use **pandas**, a powerful data analysis library."
   ]
  },
  {
   "cell_type": "code",
   "execution_count": null,
   "id": "dfe4bbc8",
   "metadata": {},
   "outputs": [],
   "source": [
    "import pandas as pd\n",
    "\n",
    "data = {\n",
    "    \"Student\": [\"Alice\", \"Bob\", \"Charlie\", \"Diana\"],\n",
    "    \"Score\": [85, 92, 78, 88],\n",
    "    \"Hours_Studied\": [10, 15, 7, 12]\n",
    "}\n",
    "\n",
    "df = pd.DataFrame(data)\n",
    "df"
   ]
  },
  {
   "cell_type": "markdown",
   "id": "e64ab8a7",
   "metadata": {},
   "source": [
    "# 3. Visualizing Data  \n",
    "\n",
    "Now let’s create a **scatter plot** to see how study hours relate to scores.  \n",
    "We'll use **Seaborn**, which makes charts beautiful with just one line of code."
   ]
  },
  {
   "cell_type": "code",
   "execution_count": null,
   "id": "e3d401dd",
   "metadata": {},
   "outputs": [],
   "source": [
    "import micropip\n",
    "await micropip.install(\"seaborn\")\n",
    "\n",
    "import seaborn as sns\n",
    "import matplotlib.pyplot as plt\n",
    "\n",
    "sns.scatterplot(x=\"Hours_Studied\", y=\"Score\", data=df, hue=\"Student\", s=100)\n",
    "plt.title(\"📚 Hours Studied vs. Score\")\n",
    "plt.show()"
   ]
  },
  {
   "cell_type": "markdown",
   "id": "2651afc1",
   "metadata": {},
   "source": [
    "# 4. Interactivity 🎛️  \n",
    "\n",
    "What if we could **predict scores** based on study hours?  \n",
    "Let’s add a slider so you can test different values yourself."
   ]
  },
  {
   "cell_type": "code",
   "execution_count": null,
   "id": "1ca37094",
   "metadata": {},
   "outputs": [],
   "source": [
    "import micropip\n",
    "await micropip.install(\"ipywidgets\")\n",
    "\n",
    "import ipywidgets as widgets\n",
    "\n",
    "@widgets.interact(study_hours=(0,20,1))\n",
    "def predict_score(study_hours=5):\n",
    "    predicted = 50 + study_hours * 3\n",
    "    return f\"If you study {study_hours} hours, your predicted score is {predicted}\""
   ]
  },
  {
   "cell_type": "markdown",
   "id": "3013995f",
   "metadata": {},
   "source": [
    "# 5. Something Fun 🎉 \n",
    "\n",
    "Finally, let’s visualize emojis! Because Python isn’t just for numbers 😉."
   ]
  },
  {
   "cell_type": "code",
   "execution_count": null,
   "id": "859ae1df",
   "metadata": {},
   "outputs": [],
   "source": [
    "emoji_data = {\n",
    "    \"😀\": 10,\n",
    "    \"😎\": 15,\n",
    "    \"❤️\": 7,\n",
    "    \"😭\": 12\n",
    "}\n",
    "\n",
    "sns.barplot(x=list(emoji_data.keys()), y=list(emoji_data.values()))\n",
    "plt.title(\"Favorite Emojis in Class\")\n",
    "plt.show()"
   ]
  }
 ],
 "metadata": {
  "language_info": {
   "name": "python"
  }
 },
 "nbformat": 4,
 "nbformat_minor": 5
}
