{
 "cells": [
  {
   "cell_type": "markdown",
   "id": "4f45ec19",
   "metadata": {},
   "source": [
    "# JavaScript in JupyterLite"
   ]
  },
  {
   "cell_type": "markdown",
   "id": "f8afd603",
   "metadata": {},
   "source": [
    "## 1. Standard streams"
   ]
  },
  {
   "cell_type": "code",
   "execution_count": null,
   "id": "77fad3df",
   "metadata": {
    "vscode": {
     "languageId": "powershell"
    }
   },
   "outputs": [],
   "source": [
    "console.log('hello world')"
   ]
  },
  {
   "cell_type": "code",
   "execution_count": null,
   "id": "a65f510e",
   "metadata": {
    "vscode": {
     "languageId": "powershell"
    }
   },
   "outputs": [],
   "source": [
    "console.error('error')"
   ]
  },
  {
   "cell_type": "markdown",
   "id": "3917272f",
   "metadata": {},
   "source": [
    "## 2. JavaScript as a Calculator  \n",
    "Just like Python, you can do math in JavaScript."
   ]
  },
  {
   "cell_type": "code",
   "execution_count": null,
   "id": "55017770",
   "metadata": {
    "vscode": {
     "languageId": "javascript"
    }
   },
   "outputs": [],
   "source": [
    "2 + 3 * 5"
   ]
  },
  {
   "cell_type": "markdown",
   "id": "46d26437",
   "metadata": {},
   "source": [
    "## 3. Variables and Strings  \n",
    "Let's define variables and combine them."
   ]
  },
  {
   "cell_type": "code",
   "execution_count": null,
   "id": "1cba4ce9",
   "metadata": {
    "vscode": {
     "languageId": "javascript"
    }
   },
   "outputs": [],
   "source": [
    "let name = \"Alice\";\n",
    "let age = 21;\n",
    "`Hello, my name is ${name} and I am ${age} years old.`"
   ]
  },
  {
   "cell_type": "markdown",
   "id": "1d00dbdd",
   "metadata": {},
   "source": [
    "## 4. Arrays and Loops  \n",
    "Data handling in JavaScript is super flexible.  \n",
    "Let's calculate the sum of numbers in an array."
   ]
  },
  {
   "cell_type": "code",
   "execution_count": null,
   "id": "b808e5fc",
   "metadata": {
    "vscode": {
     "languageId": "javascript"
    }
   },
   "outputs": [],
   "source": [
    "let numbers = [1, 2, 3, 4, 5];\n",
    "let sum = numbers.reduce((a, b) => a + b, 0);\n",
    "`The sum is ${sum}`"
   ]
  },
  {
   "cell_type": "markdown",
   "id": "4019d236",
   "metadata": {},
   "source": [
    "## 5. DOM-style Visualization\n",
    "\n",
    "We can even **draw on an HTML canvas** from inside the notebook."
   ]
  },
  {
   "cell_type": "code",
   "execution_count": null,
   "id": "4cff517a",
   "metadata": {
    "vscode": {
     "languageId": "javascript"
    }
   },
   "outputs": [],
   "source": [
    "let canvas = document.createElement(\"canvas\");\n",
    "canvas.width = 400;\n",
    "canvas.height = 200;\n",
    "document.body.appendChild(canvas);\n",
    "\n",
    "let ctx = canvas.getContext(\"2d\");\n",
    "ctx.fillStyle = \"skyblue\";\n",
    "ctx.fillRect(0, 0, 400, 200);\n",
    "\n",
    "ctx.fillStyle = \"darkblue\";\n",
    "ctx.font = \"30px Arial\";\n",
    "ctx.fillText(\"Hello JupyterLite!\", 50, 100);"
   ]
  },
  {
   "cell_type": "markdown",
   "id": "1f628e4c",
   "metadata": {},
   "source": [
    "## 6. Fun Animation \n",
    "\n",
    "Let's animate a moving ball inside the notebook."
   ]
  },
  {
   "cell_type": "code",
   "execution_count": null,
   "id": "03d7d86e",
   "metadata": {
    "vscode": {
     "languageId": "javascript"
    }
   },
   "outputs": [],
   "source": [
    "let ball = document.createElement(\"canvas\");\n",
    "ball.width = 400;\n",
    "ball.height = 200;\n",
    "document.body.appendChild(ball);\n",
    "\n",
    "let ctx2 = ball.getContext(\"2d\");\n",
    "let x = 20, dx = 2;\n",
    "\n",
    "function drawBall() {\n",
    "  ctx2.clearRect(0, 0, ball.width, ball.height);\n",
    "  ctx2.beginPath();\n",
    "  ctx2.arc(x, 100, 20, 0, Math.PI*2);\n",
    "  ctx2.fillStyle = \"red\";\n",
    "  ctx2.fill();\n",
    "  ctx2.closePath();\n",
    "  x += dx;\n",
    "  if (x > 380 || x < 20) dx = -dx;\n",
    "}\n",
    "\n",
    "setInterval(drawBall, 30);"
   ]
  }
 ],
 "metadata": {
  "language_info": {
   "name": "python"
  }
 },
 "nbformat": 4,
 "nbformat_minor": 5
}
