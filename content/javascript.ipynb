{
 "cells": [
  {
   "cell_type": "markdown",
   "id": "4f45ec19",
   "metadata": {},
   "source": [
    "# JavaScript in JupyterLite\n",
    "A minimal Jupyter notebook UI for JavaScript kernels.\n",
    "Use the ▶️ to execute the code.\n",
    "\n",
    "## Important: Choosing the Right Kernel\n",
    "This notebook uses different kernels to run code directly in your browser.\n",
    "A kernel is the “engine” that executes your code. Each language has its own kernel.\n",
    "\n",
    "The kernels loaded into this JupyterLite includes Python (Pyodide), JavaScript, Cpp, P5, and R.\n",
    "\n",
    "To run this notebook correctly, please use the **JavaScript(Web Worker)** kernel.\n",
    "\n",
    "How to check:\n",
    "\n",
    "1. On the top right corner if your this JupypterLie notebook, you should see **JavaScript(Web Worker)** kernel selected.  \n",
    "2. If you do not see **JavaScript(Web Worker)**, click the label and a pop-up window with dropdown will appear.\n",
    "3. Select the correct kernel."
   ]
  },
  {
   "cell_type": "markdown",
   "id": "f8afd603",
   "metadata": {},
   "source": [
    "## 1. Standard streams"
   ]
  },
  {
   "cell_type": "code",
   "execution_count": null,
   "id": "77fad3df",
   "metadata": {
    "vscode": {
     "languageId": "powershell"
    }
   },
   "outputs": [],
   "source": [
    "console.log('hello world')"
   ]
  },
  {
   "cell_type": "code",
   "execution_count": null,
   "id": "a65f510e",
   "metadata": {
    "vscode": {
     "languageId": "powershell"
    }
   },
   "outputs": [],
   "source": [
    "console.error('error')"
   ]
  },
  {
   "cell_type": "markdown",
   "id": "3917272f",
   "metadata": {},
   "source": [
    "## 2. JavaScript as a Calculator  \n",
    "Just like Python, you can do math in JavaScript."
   ]
  },
  {
   "cell_type": "code",
   "execution_count": null,
   "id": "55017770",
   "metadata": {
    "vscode": {
     "languageId": "javascript"
    }
   },
   "outputs": [],
   "source": [
    "2 + 3 * 5"
   ]
  },
  {
   "cell_type": "markdown",
   "id": "46d26437",
   "metadata": {},
   "source": [
    "## 3. Variables and Strings  \n",
    "Let's define variables and combine them."
   ]
  },
  {
   "cell_type": "code",
   "execution_count": null,
   "id": "1cba4ce9",
   "metadata": {
    "vscode": {
     "languageId": "javascript"
    }
   },
   "outputs": [],
   "source": [
    "let name = \"Alice\";\n",
    "let age = 21;\n",
    "`Hello, my name is ${name} and I am ${age} years old.`"
   ]
  },
  {
   "cell_type": "markdown",
   "id": "1d00dbdd",
   "metadata": {},
   "source": [
    "## 4. Arrays and Loops  \n",
    "Data handling in JavaScript is super flexible.  \n",
    "Let's calculate the sum of numbers in an array."
   ]
  },
  {
   "cell_type": "code",
   "execution_count": null,
   "id": "b808e5fc",
   "metadata": {
    "vscode": {
     "languageId": "javascript"
    }
   },
   "outputs": [],
   "source": [
    "let numbers = [1, 2, 3, 4, 5];\n",
    "let sum = numbers.reduce((a, b) => a + b, 0);\n",
    "`The sum is ${sum}`"
   ]
  }
 ],
 "metadata": {
  "language_info": {
   "name": "python"
  }
 },
 "nbformat": 4,
 "nbformat_minor": 5
}
