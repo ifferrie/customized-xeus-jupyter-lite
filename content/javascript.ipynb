{
 "cells": [
  {
   "cell_type": "markdown",
   "id": "4f45ec19",
   "metadata": {},
   "source": [
    "# JavaScript in JupyterLite"
   ]
  },
  {
   "cell_type": "markdown",
   "id": "f8afd603",
   "metadata": {},
   "source": [
    "## 1. Standard streams"
   ]
  },
  {
   "cell_type": "code",
   "execution_count": null,
   "id": "77fad3df",
   "metadata": {
    "vscode": {
     "languageId": "powershell"
    }
   },
   "outputs": [],
   "source": [
    "console.log('hello world')"
   ]
  },
  {
   "cell_type": "code",
   "execution_count": null,
   "id": "a65f510e",
   "metadata": {
    "vscode": {
     "languageId": "powershell"
    }
   },
   "outputs": [],
   "source": [
    "console.error('error')"
   ]
  },
  {
   "cell_type": "markdown",
   "id": "3917272f",
   "metadata": {},
   "source": [
    "## 2. JavaScript as a Calculator  \n",
    "Just like Python, you can do math in JavaScript."
   ]
  },
  {
   "cell_type": "code",
   "execution_count": null,
   "id": "55017770",
   "metadata": {
    "vscode": {
     "languageId": "javascript"
    }
   },
   "outputs": [],
   "source": [
    "2 + 3 * 5"
   ]
  },
  {
   "cell_type": "markdown",
   "id": "46d26437",
   "metadata": {},
   "source": [
    "## 3. Variables and Strings  \n",
    "Let's define variables and combine them."
   ]
  },
  {
   "cell_type": "code",
   "execution_count": null,
   "id": "1cba4ce9",
   "metadata": {
    "vscode": {
     "languageId": "javascript"
    }
   },
   "outputs": [],
   "source": [
    "let name = \"Alice\";\n",
    "let age = 21;\n",
    "`Hello, my name is ${name} and I am ${age} years old.`"
   ]
  },
  {
   "cell_type": "markdown",
   "id": "1d00dbdd",
   "metadata": {},
   "source": [
    "## 4. Arrays and Loops  \n",
    "Data handling in JavaScript is super flexible.  \n",
    "Let's calculate the sum of numbers in an array."
   ]
  },
  {
   "cell_type": "code",
   "execution_count": null,
   "id": "b808e5fc",
   "metadata": {
    "vscode": {
     "languageId": "javascript"
    }
   },
   "outputs": [],
   "source": [
    "let numbers = [1, 2, 3, 4, 5];\n",
    "let sum = numbers.reduce((a, b) => a + b, 0);\n",
    "`The sum is ${sum}`"
   ]
  }
 ],
 "metadata": {
  "language_info": {
   "name": "python"
  }
 },
 "nbformat": 4,
 "nbformat_minor": 5
}
